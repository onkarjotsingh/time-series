{
  "cells": [
    {
      "cell_type": "markdown",
      "metadata": {
        "id": "ohZ5FtcnPwT9"
      },
      "source": [
        "Time Series Prediction\n",
        "### Name - Onkarjot Singh\n",
        "### Roll no - 101903564\n",
        "### Group - 4coe22\n",
        "\n"
      ]
    },
    {
      "cell_type": "markdown",
      "metadata": {
        "id": "ClX-Eve7PwUE"
      },
      "source": [
        "Imports"
      ]
    },
    {
      "cell_type": "code",
      "execution_count": 91,
      "metadata": {
        "id": "kh7f_I19PwUF"
      },
      "outputs": [],
      "source": [
        "import pandas as pd\n",
        "import numpy as np\n",
        "from sklearn.model_selection import train_test_split"
      ]
    },
    {
      "cell_type": "markdown",
      "metadata": {
        "id": "f9hydDszPwUJ"
      },
      "source": [
        "Reading DATASET"
      ]
    },
    {
      "cell_type": "code",
      "execution_count": 92,
      "metadata": {
        "colab": {
          "base_uri": "https://localhost:8080/",
          "height": 296
        },
        "id": "AnWhaWp-PwUK",
        "outputId": "b22d967c-4da5-419b-89f3-31bfe3f3cdd3"
      },
      "outputs": [
        {
          "output_type": "stream",
          "name": "stderr",
          "text": [
            "/usr/local/lib/python3.7/dist-packages/openpyxl/worksheet/_reader.py:312: UserWarning: Unknown extension is not supported and will be removed\n",
            "  warn(msg)\n",
            "/usr/local/lib/python3.7/dist-packages/openpyxl/worksheet/_reader.py:312: UserWarning: Conditional Formatting extension is not supported and will be removed\n",
            "  warn(msg)\n"
          ]
        },
        {
          "output_type": "execute_result",
          "data": {
            "text/plain": [
              "  Unnamed: 0  year  Para-1  Para-2  Para-3  Para-4  Para-5  Para-6  Para-7  \\\n",
              "0      Sec_1     1   324.0   354.5    17.0     0.0       3     117    2600   \n",
              "1        NaN     2   324.0   161.1    18.2     0.0       4     106    5950   \n",
              "2        NaN     3   324.0   170.7    18.5     0.0       4     110    5950   \n",
              "3        NaN     4   324.0   223.9    18.9     0.0       3     110    6150   \n",
              "4        NaN     5   324.0   228.2    18.4     0.0       2     113    6340   \n",
              "\n",
              "   Para-8  Para-9  Para-10  Para-11  Para-12  Para-13  \n",
              "0     400     0.0      0.0      0.0        0     1.52  \n",
              "1    1190     0.0      3.4      0.0        0     1.62  \n",
              "2    1190     0.0     21.3      0.0        4     1.68  \n",
              "3    1340     0.0     21.3      0.0        5     1.78  \n",
              "4    1450     0.0     23.9      0.0        7     1.80  "
            ],
            "text/html": [
              "\n",
              "  <div id=\"df-b8419a16-f5d4-4033-b6a8-8cf2fd911217\">\n",
              "    <div class=\"colab-df-container\">\n",
              "      <div>\n",
              "<style scoped>\n",
              "    .dataframe tbody tr th:only-of-type {\n",
              "        vertical-align: middle;\n",
              "    }\n",
              "\n",
              "    .dataframe tbody tr th {\n",
              "        vertical-align: top;\n",
              "    }\n",
              "\n",
              "    .dataframe thead th {\n",
              "        text-align: right;\n",
              "    }\n",
              "</style>\n",
              "<table border=\"1\" class=\"dataframe\">\n",
              "  <thead>\n",
              "    <tr style=\"text-align: right;\">\n",
              "      <th></th>\n",
              "      <th>Unnamed: 0</th>\n",
              "      <th>year</th>\n",
              "      <th>Para-1</th>\n",
              "      <th>Para-2</th>\n",
              "      <th>Para-3</th>\n",
              "      <th>Para-4</th>\n",
              "      <th>Para-5</th>\n",
              "      <th>Para-6</th>\n",
              "      <th>Para-7</th>\n",
              "      <th>Para-8</th>\n",
              "      <th>Para-9</th>\n",
              "      <th>Para-10</th>\n",
              "      <th>Para-11</th>\n",
              "      <th>Para-12</th>\n",
              "      <th>Para-13</th>\n",
              "    </tr>\n",
              "  </thead>\n",
              "  <tbody>\n",
              "    <tr>\n",
              "      <th>0</th>\n",
              "      <td>Sec_1</td>\n",
              "      <td>1</td>\n",
              "      <td>324.0</td>\n",
              "      <td>354.5</td>\n",
              "      <td>17.0</td>\n",
              "      <td>0.0</td>\n",
              "      <td>3</td>\n",
              "      <td>117</td>\n",
              "      <td>2600</td>\n",
              "      <td>400</td>\n",
              "      <td>0.0</td>\n",
              "      <td>0.0</td>\n",
              "      <td>0.0</td>\n",
              "      <td>0</td>\n",
              "      <td>1.52</td>\n",
              "    </tr>\n",
              "    <tr>\n",
              "      <th>1</th>\n",
              "      <td>NaN</td>\n",
              "      <td>2</td>\n",
              "      <td>324.0</td>\n",
              "      <td>161.1</td>\n",
              "      <td>18.2</td>\n",
              "      <td>0.0</td>\n",
              "      <td>4</td>\n",
              "      <td>106</td>\n",
              "      <td>5950</td>\n",
              "      <td>1190</td>\n",
              "      <td>0.0</td>\n",
              "      <td>3.4</td>\n",
              "      <td>0.0</td>\n",
              "      <td>0</td>\n",
              "      <td>1.62</td>\n",
              "    </tr>\n",
              "    <tr>\n",
              "      <th>2</th>\n",
              "      <td>NaN</td>\n",
              "      <td>3</td>\n",
              "      <td>324.0</td>\n",
              "      <td>170.7</td>\n",
              "      <td>18.5</td>\n",
              "      <td>0.0</td>\n",
              "      <td>4</td>\n",
              "      <td>110</td>\n",
              "      <td>5950</td>\n",
              "      <td>1190</td>\n",
              "      <td>0.0</td>\n",
              "      <td>21.3</td>\n",
              "      <td>0.0</td>\n",
              "      <td>4</td>\n",
              "      <td>1.68</td>\n",
              "    </tr>\n",
              "    <tr>\n",
              "      <th>3</th>\n",
              "      <td>NaN</td>\n",
              "      <td>4</td>\n",
              "      <td>324.0</td>\n",
              "      <td>223.9</td>\n",
              "      <td>18.9</td>\n",
              "      <td>0.0</td>\n",
              "      <td>3</td>\n",
              "      <td>110</td>\n",
              "      <td>6150</td>\n",
              "      <td>1340</td>\n",
              "      <td>0.0</td>\n",
              "      <td>21.3</td>\n",
              "      <td>0.0</td>\n",
              "      <td>5</td>\n",
              "      <td>1.78</td>\n",
              "    </tr>\n",
              "    <tr>\n",
              "      <th>4</th>\n",
              "      <td>NaN</td>\n",
              "      <td>5</td>\n",
              "      <td>324.0</td>\n",
              "      <td>228.2</td>\n",
              "      <td>18.4</td>\n",
              "      <td>0.0</td>\n",
              "      <td>2</td>\n",
              "      <td>113</td>\n",
              "      <td>6340</td>\n",
              "      <td>1450</td>\n",
              "      <td>0.0</td>\n",
              "      <td>23.9</td>\n",
              "      <td>0.0</td>\n",
              "      <td>7</td>\n",
              "      <td>1.80</td>\n",
              "    </tr>\n",
              "  </tbody>\n",
              "</table>\n",
              "</div>\n",
              "      <button class=\"colab-df-convert\" onclick=\"convertToInteractive('df-b8419a16-f5d4-4033-b6a8-8cf2fd911217')\"\n",
              "              title=\"Convert this dataframe to an interactive table.\"\n",
              "              style=\"display:none;\">\n",
              "        \n",
              "  <svg xmlns=\"http://www.w3.org/2000/svg\" height=\"24px\"viewBox=\"0 0 24 24\"\n",
              "       width=\"24px\">\n",
              "    <path d=\"M0 0h24v24H0V0z\" fill=\"none\"/>\n",
              "    <path d=\"M18.56 5.44l.94 2.06.94-2.06 2.06-.94-2.06-.94-.94-2.06-.94 2.06-2.06.94zm-11 1L8.5 8.5l.94-2.06 2.06-.94-2.06-.94L8.5 2.5l-.94 2.06-2.06.94zm10 10l.94 2.06.94-2.06 2.06-.94-2.06-.94-.94-2.06-.94 2.06-2.06.94z\"/><path d=\"M17.41 7.96l-1.37-1.37c-.4-.4-.92-.59-1.43-.59-.52 0-1.04.2-1.43.59L10.3 9.45l-7.72 7.72c-.78.78-.78 2.05 0 2.83L4 21.41c.39.39.9.59 1.41.59.51 0 1.02-.2 1.41-.59l7.78-7.78 2.81-2.81c.8-.78.8-2.07 0-2.86zM5.41 20L4 18.59l7.72-7.72 1.47 1.35L5.41 20z\"/>\n",
              "  </svg>\n",
              "      </button>\n",
              "      \n",
              "  <style>\n",
              "    .colab-df-container {\n",
              "      display:flex;\n",
              "      flex-wrap:wrap;\n",
              "      gap: 12px;\n",
              "    }\n",
              "\n",
              "    .colab-df-convert {\n",
              "      background-color: #E8F0FE;\n",
              "      border: none;\n",
              "      border-radius: 50%;\n",
              "      cursor: pointer;\n",
              "      display: none;\n",
              "      fill: #1967D2;\n",
              "      height: 32px;\n",
              "      padding: 0 0 0 0;\n",
              "      width: 32px;\n",
              "    }\n",
              "\n",
              "    .colab-df-convert:hover {\n",
              "      background-color: #E2EBFA;\n",
              "      box-shadow: 0px 1px 2px rgba(60, 64, 67, 0.3), 0px 1px 3px 1px rgba(60, 64, 67, 0.15);\n",
              "      fill: #174EA6;\n",
              "    }\n",
              "\n",
              "    [theme=dark] .colab-df-convert {\n",
              "      background-color: #3B4455;\n",
              "      fill: #D2E3FC;\n",
              "    }\n",
              "\n",
              "    [theme=dark] .colab-df-convert:hover {\n",
              "      background-color: #434B5C;\n",
              "      box-shadow: 0px 1px 3px 1px rgba(0, 0, 0, 0.15);\n",
              "      filter: drop-shadow(0px 1px 2px rgba(0, 0, 0, 0.3));\n",
              "      fill: #FFFFFF;\n",
              "    }\n",
              "  </style>\n",
              "\n",
              "      <script>\n",
              "        const buttonEl =\n",
              "          document.querySelector('#df-b8419a16-f5d4-4033-b6a8-8cf2fd911217 button.colab-df-convert');\n",
              "        buttonEl.style.display =\n",
              "          google.colab.kernel.accessAllowed ? 'block' : 'none';\n",
              "\n",
              "        async function convertToInteractive(key) {\n",
              "          const element = document.querySelector('#df-b8419a16-f5d4-4033-b6a8-8cf2fd911217');\n",
              "          const dataTable =\n",
              "            await google.colab.kernel.invokeFunction('convertToInteractive',\n",
              "                                                     [key], {});\n",
              "          if (!dataTable) return;\n",
              "\n",
              "          const docLinkHtml = 'Like what you see? Visit the ' +\n",
              "            '<a target=\"_blank\" href=https://colab.research.google.com/notebooks/data_table.ipynb>data table notebook</a>'\n",
              "            + ' to learn more about interactive tables.';\n",
              "          element.innerHTML = '';\n",
              "          dataTable['output_type'] = 'display_data';\n",
              "          await google.colab.output.renderOutput(dataTable, element);\n",
              "          const docLink = document.createElement('div');\n",
              "          docLink.innerHTML = docLinkHtml;\n",
              "          element.appendChild(docLink);\n",
              "        }\n",
              "      </script>\n",
              "    </div>\n",
              "  </div>\n",
              "  "
            ]
          },
          "metadata": {},
          "execution_count": 92
        }
      ],
      "source": [
        "df=pd.read_excel(\"DATASET.xlsx\")\n",
        "df.head()"
      ]
    },
    {
      "cell_type": "markdown",
      "metadata": {
        "id": "4uabK3u-PwUN"
      },
      "source": [
        "Removing Incomplete Data"
      ]
    },
    {
      "cell_type": "code",
      "execution_count": 93,
      "metadata": {
        "colab": {
          "base_uri": "https://localhost:8080/"
        },
        "id": "SEjajI7_PwUP",
        "outputId": "dc43cad6-383f-4436-8da8-c2e7d3870e64"
      },
      "outputs": [
        {
          "output_type": "stream",
          "name": "stdout",
          "text": [
            "(1009, 15) 1009\n",
            "(1000, 15) 1000\n"
          ]
        }
      ],
      "source": [
        "print(df.shape,len(df))\n",
        "df=pd.concat([df.iloc[0:910],df.iloc[919:]])\n",
        "print(df.shape,len(df))\n",
        "df.to_excel(\"DATASET_new.xlsx\",index=False)"
      ]
    },
    {
      "cell_type": "markdown",
      "metadata": {
        "id": "nGOfe4RkPwUQ"
      },
      "source": [
        "PRE-PPROCESSING"
      ]
    },
    {
      "cell_type": "code",
      "execution_count": 94,
      "metadata": {
        "colab": {
          "base_uri": "https://localhost:8080/",
          "height": 676
        },
        "id": "uV0fSjGMPwUS",
        "outputId": "a5b8ef73-ec98-4a43-f93e-5bc162b9da6d"
      },
      "outputs": [
        {
          "output_type": "execute_result",
          "data": {
            "text/plain": [
              "    year  Para-1  Para-2  Para-3  Para-4  Para-5  Para-6  Para-7  Para-8  \\\n",
              "0      1   324.0   354.5    17.0     0.0       3     117    2600     400   \n",
              "1      2   324.0   161.1    18.2     0.0       4     106    5950    1190   \n",
              "2      3   324.0   170.7    18.5     0.0       4     110    5950    1190   \n",
              "3      4   324.0   223.9    18.9     0.0       3     110    6150    1340   \n",
              "4      5   324.0   228.2    18.4     0.0       2     113    6340    1450   \n",
              "5      6   324.0   225.0    17.2     0.0       4     114    6630    1500   \n",
              "6      7   324.0   130.0    18.4     0.0       3     103    6700    1540   \n",
              "7      8   324.0   100.6    19.0     0.0       2     114    6740    1590   \n",
              "8      9   324.0   176.5    19.0     0.0       3     108    7175    1787   \n",
              "9     10   324.0    53.6    19.0     0.0       2     105    7567    1885   \n",
              "10     1   327.7   336.6    21.3     0.0       4     106    5810    2030   \n",
              "11     2   327.7   240.2    22.1     0.0       3     104    5900    2200   \n",
              "12     3   327.7   155.3    22.4     0.0       3     104    6100    2500   \n",
              "13     4   327.7    77.0    23.0     0.0       2     105    6140    2650   \n",
              "14     5   327.7   146.3    22.5     0.0       2     108    6200    2800   \n",
              "15     6   327.7   216.3    21.2     0.0       4     111    6500    2550   \n",
              "16     7   327.7    77.1    22.4     0.0       4     106   19437    7674   \n",
              "17     8   327.7    90.3    22.8     0.0       2     105   22755    8472   \n",
              "18     9   327.7   238.5    22.8     0.0       2     103   26640    9353   \n",
              "19    10   327.7    62.0    22.7     0.0       2     102   30525   10234   \n",
              "\n",
              "    Para-9  Para-10  Para-11  Para-12  Para-13  \n",
              "0      0.0      0.0      0.0        0    1.520  \n",
              "1      0.0      3.4      0.0        0    1.620  \n",
              "2      0.0     21.3      0.0        4    1.680  \n",
              "3      0.0     21.3      0.0        5    1.780  \n",
              "4      0.0     23.9      0.0        7    1.800  \n",
              "5      0.0     24.9      0.0        7    1.810  \n",
              "6      0.9     25.2      0.0        7    1.860  \n",
              "7      0.9     52.8      0.0        8    1.890  \n",
              "8      3.4     60.5     57.0        8    1.920  \n",
              "9     16.8    105.0     65.0        9    1.960  \n",
              "10     0.0      0.0      0.0        0    0.712  \n",
              "11     0.0      0.0      0.0        0    0.720  \n",
              "12     0.0      0.0      0.0        0    0.752  \n",
              "13     0.0      9.0      0.0        0    0.758  \n",
              "14     2.9     11.0      0.0        6    0.762  \n",
              "15    34.8     18.6      0.0        7    0.770  \n",
              "16    50.6     24.9      0.0        7    0.781  \n",
              "17    56.7     27.0      1.0        8    0.789  \n",
              "18    60.9     30.2      1.0        8    0.794  \n",
              "19    76.5     44.3      5.0        9    0.795  "
            ],
            "text/html": [
              "\n",
              "  <div id=\"df-f9173710-2483-41a3-883f-261b3b42839f\">\n",
              "    <div class=\"colab-df-container\">\n",
              "      <div>\n",
              "<style scoped>\n",
              "    .dataframe tbody tr th:only-of-type {\n",
              "        vertical-align: middle;\n",
              "    }\n",
              "\n",
              "    .dataframe tbody tr th {\n",
              "        vertical-align: top;\n",
              "    }\n",
              "\n",
              "    .dataframe thead th {\n",
              "        text-align: right;\n",
              "    }\n",
              "</style>\n",
              "<table border=\"1\" class=\"dataframe\">\n",
              "  <thead>\n",
              "    <tr style=\"text-align: right;\">\n",
              "      <th></th>\n",
              "      <th>year</th>\n",
              "      <th>Para-1</th>\n",
              "      <th>Para-2</th>\n",
              "      <th>Para-3</th>\n",
              "      <th>Para-4</th>\n",
              "      <th>Para-5</th>\n",
              "      <th>Para-6</th>\n",
              "      <th>Para-7</th>\n",
              "      <th>Para-8</th>\n",
              "      <th>Para-9</th>\n",
              "      <th>Para-10</th>\n",
              "      <th>Para-11</th>\n",
              "      <th>Para-12</th>\n",
              "      <th>Para-13</th>\n",
              "    </tr>\n",
              "  </thead>\n",
              "  <tbody>\n",
              "    <tr>\n",
              "      <th>0</th>\n",
              "      <td>1</td>\n",
              "      <td>324.0</td>\n",
              "      <td>354.5</td>\n",
              "      <td>17.0</td>\n",
              "      <td>0.0</td>\n",
              "      <td>3</td>\n",
              "      <td>117</td>\n",
              "      <td>2600</td>\n",
              "      <td>400</td>\n",
              "      <td>0.0</td>\n",
              "      <td>0.0</td>\n",
              "      <td>0.0</td>\n",
              "      <td>0</td>\n",
              "      <td>1.520</td>\n",
              "    </tr>\n",
              "    <tr>\n",
              "      <th>1</th>\n",
              "      <td>2</td>\n",
              "      <td>324.0</td>\n",
              "      <td>161.1</td>\n",
              "      <td>18.2</td>\n",
              "      <td>0.0</td>\n",
              "      <td>4</td>\n",
              "      <td>106</td>\n",
              "      <td>5950</td>\n",
              "      <td>1190</td>\n",
              "      <td>0.0</td>\n",
              "      <td>3.4</td>\n",
              "      <td>0.0</td>\n",
              "      <td>0</td>\n",
              "      <td>1.620</td>\n",
              "    </tr>\n",
              "    <tr>\n",
              "      <th>2</th>\n",
              "      <td>3</td>\n",
              "      <td>324.0</td>\n",
              "      <td>170.7</td>\n",
              "      <td>18.5</td>\n",
              "      <td>0.0</td>\n",
              "      <td>4</td>\n",
              "      <td>110</td>\n",
              "      <td>5950</td>\n",
              "      <td>1190</td>\n",
              "      <td>0.0</td>\n",
              "      <td>21.3</td>\n",
              "      <td>0.0</td>\n",
              "      <td>4</td>\n",
              "      <td>1.680</td>\n",
              "    </tr>\n",
              "    <tr>\n",
              "      <th>3</th>\n",
              "      <td>4</td>\n",
              "      <td>324.0</td>\n",
              "      <td>223.9</td>\n",
              "      <td>18.9</td>\n",
              "      <td>0.0</td>\n",
              "      <td>3</td>\n",
              "      <td>110</td>\n",
              "      <td>6150</td>\n",
              "      <td>1340</td>\n",
              "      <td>0.0</td>\n",
              "      <td>21.3</td>\n",
              "      <td>0.0</td>\n",
              "      <td>5</td>\n",
              "      <td>1.780</td>\n",
              "    </tr>\n",
              "    <tr>\n",
              "      <th>4</th>\n",
              "      <td>5</td>\n",
              "      <td>324.0</td>\n",
              "      <td>228.2</td>\n",
              "      <td>18.4</td>\n",
              "      <td>0.0</td>\n",
              "      <td>2</td>\n",
              "      <td>113</td>\n",
              "      <td>6340</td>\n",
              "      <td>1450</td>\n",
              "      <td>0.0</td>\n",
              "      <td>23.9</td>\n",
              "      <td>0.0</td>\n",
              "      <td>7</td>\n",
              "      <td>1.800</td>\n",
              "    </tr>\n",
              "    <tr>\n",
              "      <th>5</th>\n",
              "      <td>6</td>\n",
              "      <td>324.0</td>\n",
              "      <td>225.0</td>\n",
              "      <td>17.2</td>\n",
              "      <td>0.0</td>\n",
              "      <td>4</td>\n",
              "      <td>114</td>\n",
              "      <td>6630</td>\n",
              "      <td>1500</td>\n",
              "      <td>0.0</td>\n",
              "      <td>24.9</td>\n",
              "      <td>0.0</td>\n",
              "      <td>7</td>\n",
              "      <td>1.810</td>\n",
              "    </tr>\n",
              "    <tr>\n",
              "      <th>6</th>\n",
              "      <td>7</td>\n",
              "      <td>324.0</td>\n",
              "      <td>130.0</td>\n",
              "      <td>18.4</td>\n",
              "      <td>0.0</td>\n",
              "      <td>3</td>\n",
              "      <td>103</td>\n",
              "      <td>6700</td>\n",
              "      <td>1540</td>\n",
              "      <td>0.9</td>\n",
              "      <td>25.2</td>\n",
              "      <td>0.0</td>\n",
              "      <td>7</td>\n",
              "      <td>1.860</td>\n",
              "    </tr>\n",
              "    <tr>\n",
              "      <th>7</th>\n",
              "      <td>8</td>\n",
              "      <td>324.0</td>\n",
              "      <td>100.6</td>\n",
              "      <td>19.0</td>\n",
              "      <td>0.0</td>\n",
              "      <td>2</td>\n",
              "      <td>114</td>\n",
              "      <td>6740</td>\n",
              "      <td>1590</td>\n",
              "      <td>0.9</td>\n",
              "      <td>52.8</td>\n",
              "      <td>0.0</td>\n",
              "      <td>8</td>\n",
              "      <td>1.890</td>\n",
              "    </tr>\n",
              "    <tr>\n",
              "      <th>8</th>\n",
              "      <td>9</td>\n",
              "      <td>324.0</td>\n",
              "      <td>176.5</td>\n",
              "      <td>19.0</td>\n",
              "      <td>0.0</td>\n",
              "      <td>3</td>\n",
              "      <td>108</td>\n",
              "      <td>7175</td>\n",
              "      <td>1787</td>\n",
              "      <td>3.4</td>\n",
              "      <td>60.5</td>\n",
              "      <td>57.0</td>\n",
              "      <td>8</td>\n",
              "      <td>1.920</td>\n",
              "    </tr>\n",
              "    <tr>\n",
              "      <th>9</th>\n",
              "      <td>10</td>\n",
              "      <td>324.0</td>\n",
              "      <td>53.6</td>\n",
              "      <td>19.0</td>\n",
              "      <td>0.0</td>\n",
              "      <td>2</td>\n",
              "      <td>105</td>\n",
              "      <td>7567</td>\n",
              "      <td>1885</td>\n",
              "      <td>16.8</td>\n",
              "      <td>105.0</td>\n",
              "      <td>65.0</td>\n",
              "      <td>9</td>\n",
              "      <td>1.960</td>\n",
              "    </tr>\n",
              "    <tr>\n",
              "      <th>10</th>\n",
              "      <td>1</td>\n",
              "      <td>327.7</td>\n",
              "      <td>336.6</td>\n",
              "      <td>21.3</td>\n",
              "      <td>0.0</td>\n",
              "      <td>4</td>\n",
              "      <td>106</td>\n",
              "      <td>5810</td>\n",
              "      <td>2030</td>\n",
              "      <td>0.0</td>\n",
              "      <td>0.0</td>\n",
              "      <td>0.0</td>\n",
              "      <td>0</td>\n",
              "      <td>0.712</td>\n",
              "    </tr>\n",
              "    <tr>\n",
              "      <th>11</th>\n",
              "      <td>2</td>\n",
              "      <td>327.7</td>\n",
              "      <td>240.2</td>\n",
              "      <td>22.1</td>\n",
              "      <td>0.0</td>\n",
              "      <td>3</td>\n",
              "      <td>104</td>\n",
              "      <td>5900</td>\n",
              "      <td>2200</td>\n",
              "      <td>0.0</td>\n",
              "      <td>0.0</td>\n",
              "      <td>0.0</td>\n",
              "      <td>0</td>\n",
              "      <td>0.720</td>\n",
              "    </tr>\n",
              "    <tr>\n",
              "      <th>12</th>\n",
              "      <td>3</td>\n",
              "      <td>327.7</td>\n",
              "      <td>155.3</td>\n",
              "      <td>22.4</td>\n",
              "      <td>0.0</td>\n",
              "      <td>3</td>\n",
              "      <td>104</td>\n",
              "      <td>6100</td>\n",
              "      <td>2500</td>\n",
              "      <td>0.0</td>\n",
              "      <td>0.0</td>\n",
              "      <td>0.0</td>\n",
              "      <td>0</td>\n",
              "      <td>0.752</td>\n",
              "    </tr>\n",
              "    <tr>\n",
              "      <th>13</th>\n",
              "      <td>4</td>\n",
              "      <td>327.7</td>\n",
              "      <td>77.0</td>\n",
              "      <td>23.0</td>\n",
              "      <td>0.0</td>\n",
              "      <td>2</td>\n",
              "      <td>105</td>\n",
              "      <td>6140</td>\n",
              "      <td>2650</td>\n",
              "      <td>0.0</td>\n",
              "      <td>9.0</td>\n",
              "      <td>0.0</td>\n",
              "      <td>0</td>\n",
              "      <td>0.758</td>\n",
              "    </tr>\n",
              "    <tr>\n",
              "      <th>14</th>\n",
              "      <td>5</td>\n",
              "      <td>327.7</td>\n",
              "      <td>146.3</td>\n",
              "      <td>22.5</td>\n",
              "      <td>0.0</td>\n",
              "      <td>2</td>\n",
              "      <td>108</td>\n",
              "      <td>6200</td>\n",
              "      <td>2800</td>\n",
              "      <td>2.9</td>\n",
              "      <td>11.0</td>\n",
              "      <td>0.0</td>\n",
              "      <td>6</td>\n",
              "      <td>0.762</td>\n",
              "    </tr>\n",
              "    <tr>\n",
              "      <th>15</th>\n",
              "      <td>6</td>\n",
              "      <td>327.7</td>\n",
              "      <td>216.3</td>\n",
              "      <td>21.2</td>\n",
              "      <td>0.0</td>\n",
              "      <td>4</td>\n",
              "      <td>111</td>\n",
              "      <td>6500</td>\n",
              "      <td>2550</td>\n",
              "      <td>34.8</td>\n",
              "      <td>18.6</td>\n",
              "      <td>0.0</td>\n",
              "      <td>7</td>\n",
              "      <td>0.770</td>\n",
              "    </tr>\n",
              "    <tr>\n",
              "      <th>16</th>\n",
              "      <td>7</td>\n",
              "      <td>327.7</td>\n",
              "      <td>77.1</td>\n",
              "      <td>22.4</td>\n",
              "      <td>0.0</td>\n",
              "      <td>4</td>\n",
              "      <td>106</td>\n",
              "      <td>19437</td>\n",
              "      <td>7674</td>\n",
              "      <td>50.6</td>\n",
              "      <td>24.9</td>\n",
              "      <td>0.0</td>\n",
              "      <td>7</td>\n",
              "      <td>0.781</td>\n",
              "    </tr>\n",
              "    <tr>\n",
              "      <th>17</th>\n",
              "      <td>8</td>\n",
              "      <td>327.7</td>\n",
              "      <td>90.3</td>\n",
              "      <td>22.8</td>\n",
              "      <td>0.0</td>\n",
              "      <td>2</td>\n",
              "      <td>105</td>\n",
              "      <td>22755</td>\n",
              "      <td>8472</td>\n",
              "      <td>56.7</td>\n",
              "      <td>27.0</td>\n",
              "      <td>1.0</td>\n",
              "      <td>8</td>\n",
              "      <td>0.789</td>\n",
              "    </tr>\n",
              "    <tr>\n",
              "      <th>18</th>\n",
              "      <td>9</td>\n",
              "      <td>327.7</td>\n",
              "      <td>238.5</td>\n",
              "      <td>22.8</td>\n",
              "      <td>0.0</td>\n",
              "      <td>2</td>\n",
              "      <td>103</td>\n",
              "      <td>26640</td>\n",
              "      <td>9353</td>\n",
              "      <td>60.9</td>\n",
              "      <td>30.2</td>\n",
              "      <td>1.0</td>\n",
              "      <td>8</td>\n",
              "      <td>0.794</td>\n",
              "    </tr>\n",
              "    <tr>\n",
              "      <th>19</th>\n",
              "      <td>10</td>\n",
              "      <td>327.7</td>\n",
              "      <td>62.0</td>\n",
              "      <td>22.7</td>\n",
              "      <td>0.0</td>\n",
              "      <td>2</td>\n",
              "      <td>102</td>\n",
              "      <td>30525</td>\n",
              "      <td>10234</td>\n",
              "      <td>76.5</td>\n",
              "      <td>44.3</td>\n",
              "      <td>5.0</td>\n",
              "      <td>9</td>\n",
              "      <td>0.795</td>\n",
              "    </tr>\n",
              "  </tbody>\n",
              "</table>\n",
              "</div>\n",
              "      <button class=\"colab-df-convert\" onclick=\"convertToInteractive('df-f9173710-2483-41a3-883f-261b3b42839f')\"\n",
              "              title=\"Convert this dataframe to an interactive table.\"\n",
              "              style=\"display:none;\">\n",
              "        \n",
              "  <svg xmlns=\"http://www.w3.org/2000/svg\" height=\"24px\"viewBox=\"0 0 24 24\"\n",
              "       width=\"24px\">\n",
              "    <path d=\"M0 0h24v24H0V0z\" fill=\"none\"/>\n",
              "    <path d=\"M18.56 5.44l.94 2.06.94-2.06 2.06-.94-2.06-.94-.94-2.06-.94 2.06-2.06.94zm-11 1L8.5 8.5l.94-2.06 2.06-.94-2.06-.94L8.5 2.5l-.94 2.06-2.06.94zm10 10l.94 2.06.94-2.06 2.06-.94-2.06-.94-.94-2.06-.94 2.06-2.06.94z\"/><path d=\"M17.41 7.96l-1.37-1.37c-.4-.4-.92-.59-1.43-.59-.52 0-1.04.2-1.43.59L10.3 9.45l-7.72 7.72c-.78.78-.78 2.05 0 2.83L4 21.41c.39.39.9.59 1.41.59.51 0 1.02-.2 1.41-.59l7.78-7.78 2.81-2.81c.8-.78.8-2.07 0-2.86zM5.41 20L4 18.59l7.72-7.72 1.47 1.35L5.41 20z\"/>\n",
              "  </svg>\n",
              "      </button>\n",
              "      \n",
              "  <style>\n",
              "    .colab-df-container {\n",
              "      display:flex;\n",
              "      flex-wrap:wrap;\n",
              "      gap: 12px;\n",
              "    }\n",
              "\n",
              "    .colab-df-convert {\n",
              "      background-color: #E8F0FE;\n",
              "      border: none;\n",
              "      border-radius: 50%;\n",
              "      cursor: pointer;\n",
              "      display: none;\n",
              "      fill: #1967D2;\n",
              "      height: 32px;\n",
              "      padding: 0 0 0 0;\n",
              "      width: 32px;\n",
              "    }\n",
              "\n",
              "    .colab-df-convert:hover {\n",
              "      background-color: #E2EBFA;\n",
              "      box-shadow: 0px 1px 2px rgba(60, 64, 67, 0.3), 0px 1px 3px 1px rgba(60, 64, 67, 0.15);\n",
              "      fill: #174EA6;\n",
              "    }\n",
              "\n",
              "    [theme=dark] .colab-df-convert {\n",
              "      background-color: #3B4455;\n",
              "      fill: #D2E3FC;\n",
              "    }\n",
              "\n",
              "    [theme=dark] .colab-df-convert:hover {\n",
              "      background-color: #434B5C;\n",
              "      box-shadow: 0px 1px 3px 1px rgba(0, 0, 0, 0.15);\n",
              "      filter: drop-shadow(0px 1px 2px rgba(0, 0, 0, 0.3));\n",
              "      fill: #FFFFFF;\n",
              "    }\n",
              "  </style>\n",
              "\n",
              "      <script>\n",
              "        const buttonEl =\n",
              "          document.querySelector('#df-f9173710-2483-41a3-883f-261b3b42839f button.colab-df-convert');\n",
              "        buttonEl.style.display =\n",
              "          google.colab.kernel.accessAllowed ? 'block' : 'none';\n",
              "\n",
              "        async function convertToInteractive(key) {\n",
              "          const element = document.querySelector('#df-f9173710-2483-41a3-883f-261b3b42839f');\n",
              "          const dataTable =\n",
              "            await google.colab.kernel.invokeFunction('convertToInteractive',\n",
              "                                                     [key], {});\n",
              "          if (!dataTable) return;\n",
              "\n",
              "          const docLinkHtml = 'Like what you see? Visit the ' +\n",
              "            '<a target=\"_blank\" href=https://colab.research.google.com/notebooks/data_table.ipynb>data table notebook</a>'\n",
              "            + ' to learn more about interactive tables.';\n",
              "          element.innerHTML = '';\n",
              "          dataTable['output_type'] = 'display_data';\n",
              "          await google.colab.output.renderOutput(dataTable, element);\n",
              "          const docLink = document.createElement('div');\n",
              "          docLink.innerHTML = docLinkHtml;\n",
              "          element.appendChild(docLink);\n",
              "        }\n",
              "      </script>\n",
              "    </div>\n",
              "  </div>\n",
              "  "
            ]
          },
          "metadata": {},
          "execution_count": 94
        }
      ],
      "source": [
        "df=df.drop(['Unnamed: 0'], axis=1)\n",
        "df.head(20)"
      ]
    },
    {
      "cell_type": "code",
      "execution_count": 95,
      "metadata": {
        "colab": {
          "base_uri": "https://localhost:8080/"
        },
        "id": "7MvmhzZmPwUU",
        "outputId": "5a6d69ac-687d-48fb-f81f-2c9672b1d036"
      },
      "outputs": [
        {
          "output_type": "execute_result",
          "data": {
            "text/plain": [
              "1000"
            ]
          },
          "metadata": {},
          "execution_count": 95
        }
      ],
      "source": [
        "groups=[]\n",
        "for i in range(0,len(df),10):\n",
        "    groups.append(df[i:i+10])\n",
        "len(df)"
      ]
    },
    {
      "cell_type": "code",
      "execution_count": 96,
      "metadata": {
        "colab": {
          "base_uri": "https://localhost:8080/"
        },
        "id": "BQHBZRrkPwUV",
        "outputId": "60a78bb0-c27f-445b-c947-09ea074141c6"
      },
      "outputs": [
        {
          "output_type": "stream",
          "name": "stdout",
          "text": [
            "100\n",
            "      year  Para-1  Para-2  Para-3  Para-4  Para-5  Para-6  Para-7  Para-8  \\\n",
            "999      1   454.0  1446.2    13.6    69.3      23     119    2156     509   \n",
            "1000     2   454.0  1366.8    12.7   152.0      19     116    2223     525   \n",
            "1001     3   454.0  1310.5    13.3    57.9      17     114    2634     595   \n",
            "1002     4   454.0  1128.7    15.0    28.0      12     121    3842     730   \n",
            "1003     5   454.0  1126.6    14.4    28.8      16     116    3842     730   \n",
            "1004     6   454.0   931.8    13.6   125.0      13     116    4150     830   \n",
            "1005     7   454.0   703.0    14.5    17.0      13     118    4150     830   \n",
            "1006     8   454.0  1124.1    14.9    45.0      18     117    4200     840   \n",
            "1007     9   454.0  1462.3    13.2    62.0      27     117    4400     720   \n",
            "1008    10   454.0   986.3    14.3    67.0      24     122    4415     721   \n",
            "\n",
            "      Para-9  Para-10  Para-11  Para-12  Para-13  \n",
            "999      0.0      0.0      0.0        2    1.466  \n",
            "1000     0.0      0.0      0.0        2    1.492  \n",
            "1001     0.0      0.0      0.0        4    1.597  \n",
            "1002     0.0      0.0      0.0       15    1.634  \n",
            "1003    19.0      0.0      0.0       15    1.654  \n",
            "1004    15.1      1.8      1.0       15    1.681  \n",
            "1005    24.6      7.9      2.0       15    1.838  \n",
            "1006   119.0     15.7      2.0       16    1.862  \n",
            "1007   138.2     30.5      6.0       18    1.883  \n",
            "1008   293.0     39.8      7.0       18    1.889  \n"
          ]
        }
      ],
      "source": [
        "print(len(groups))\n",
        "print(groups[99])"
      ]
    },
    {
      "cell_type": "code",
      "execution_count": 97,
      "metadata": {
        "colab": {
          "base_uri": "https://localhost:8080/"
        },
        "id": "6urWEDEcPwUY",
        "outputId": "ae4a2ac1-069a-4ac5-9f40-ad6068cf44af"
      },
      "outputs": [
        {
          "output_type": "stream",
          "name": "stdout",
          "text": [
            "9\n"
          ]
        }
      ],
      "source": [
        "X=[]\n",
        "Y=[]\n",
        "length= len(groups[0])-1\n",
        "print(length)\n",
        "for i in range(len(groups)):\n",
        "    X.append(groups[i][:length][:])\n",
        "    Y.append(groups[i][length:length+1][:])\n",
        "\n"
      ]
    },
    {
      "cell_type": "code",
      "execution_count": 98,
      "metadata": {
        "id": "_OQHIUGpPwUa"
      },
      "outputs": [],
      "source": [
        "for i in range(len(X)):\n",
        "    X[i]= X[i].to_numpy()\n",
        "    Y[i]= Y[i].to_numpy()"
      ]
    },
    {
      "cell_type": "code",
      "execution_count": 99,
      "metadata": {
        "id": "B05FgztkPwUc"
      },
      "outputs": [],
      "source": [
        "X= X[:len(X)-1]\n",
        "Y= Y[:len(Y)-1]"
      ]
    },
    {
      "cell_type": "markdown",
      "metadata": {
        "id": "0nT3scFkPwUd"
      },
      "source": [
        "Removing NaN Generated during convirting to numpy"
      ]
    },
    {
      "cell_type": "code",
      "execution_count": 100,
      "metadata": {
        "colab": {
          "base_uri": "https://localhost:8080/"
        },
        "id": "A-PhXqi4PwUe",
        "outputId": "595f3edc-fa68-4930-ac6e-be0a5623287e"
      },
      "outputs": [
        {
          "output_type": "stream",
          "name": "stdout",
          "text": [
            "[19, 26]\n",
            "[25]\n",
            "[]\n"
          ]
        }
      ],
      "source": [
        "deletion_rows=[]\n",
        "for i in range(len(X)):\n",
        "    if np.isnan(np.min(X[i])):\n",
        "        deletion_rows.append(i)\n",
        "print(deletion_rows)\n",
        "\n",
        "for i in deletion_rows:\n",
        "    X.pop(i)\n",
        "    Y.pop(i)\n",
        "\n",
        "while(len(deletion_rows)):\n",
        "    deletion_rows=[]\n",
        "    for i in range(len(X)):\n",
        "        if np.isnan(np.min(X[i])):\n",
        "            deletion_rows.append(i)\n",
        "    print(deletion_rows)\n",
        "    for i in deletion_rows:\n",
        "        X.pop(i)\n",
        "        Y.pop(i)"
      ]
    },
    {
      "cell_type": "code",
      "execution_count": 101,
      "metadata": {
        "colab": {
          "base_uri": "https://localhost:8080/"
        },
        "id": "tJX0WPrvPwUg",
        "outputId": "288a71e6-5f21-4e45-cde1-430ccfc4fc06"
      },
      "outputs": [
        {
          "output_type": "stream",
          "name": "stdout",
          "text": [
            "96 96\n"
          ]
        }
      ],
      "source": [
        "print(len(X), len(Y))"
      ]
    },
    {
      "cell_type": "code",
      "execution_count": 102,
      "metadata": {
        "colab": {
          "base_uri": "https://localhost:8080/"
        },
        "id": "8JP6ktCePwUj",
        "outputId": "6ca5f120-0957-4024-d932-868d80f19edf"
      },
      "outputs": [
        {
          "output_type": "stream",
          "name": "stdout",
          "text": [
            "(9, 14) (1, 14)\n"
          ]
        }
      ],
      "source": [
        "print(X[0].shape, Y[0].shape)"
      ]
    },
    {
      "cell_type": "markdown",
      "metadata": {
        "id": "FLquNJ3ePwUk"
      },
      "source": [
        "Declaring Model"
      ]
    },
    {
      "cell_type": "code",
      "execution_count": 103,
      "metadata": {
        "id": "oF_Uwm9NPwUl"
      },
      "outputs": [],
      "source": [
        "from lightgbm import LGBMRegressor\n",
        "model = LGBMRegressor(random_state=19)"
      ]
    },
    {
      "cell_type": "markdown",
      "metadata": {
        "id": "4rZexWdNPwUm"
      },
      "source": [
        "Training Model, Predicting and Calculating RMSE"
      ]
    },
    {
      "cell_type": "code",
      "execution_count": 104,
      "metadata": {
        "colab": {
          "base_uri": "https://localhost:8080/"
        },
        "id": "HGL9GI_iPwUn",
        "outputId": "e43cb3d7-aa8b-42c9-f49f-6c2d54f1d039"
      },
      "outputs": [
        {
          "output_type": "stream",
          "name": "stdout",
          "text": [
            "(96, 9) (96, 1)\n",
            "69044.77140414715\n",
            "(96, 9) (96, 1)\n",
            "113728.17219245434\n",
            "(96, 9) (96, 1)\n",
            "138309.23390568607\n",
            "(96, 9) (96, 1)\n",
            "138861.92607421242\n",
            "(96, 9) (96, 1)\n",
            "138863.1377673594\n"
          ]
        },
        {
          "output_type": "stream",
          "name": "stderr",
          "text": [
            "/usr/local/lib/python3.7/dist-packages/sklearn/utils/validation.py:993: DataConversionWarning: A column-vector y was passed when a 1d array was expected. Please change the shape of y to (n_samples, ), for example using ravel().\n",
            "  y = column_or_1d(y, warn=True)\n",
            "/usr/local/lib/python3.7/dist-packages/sklearn/utils/validation.py:993: DataConversionWarning: A column-vector y was passed when a 1d array was expected. Please change the shape of y to (n_samples, ), for example using ravel().\n",
            "  y = column_or_1d(y, warn=True)\n",
            "/usr/local/lib/python3.7/dist-packages/sklearn/utils/validation.py:993: DataConversionWarning: A column-vector y was passed when a 1d array was expected. Please change the shape of y to (n_samples, ), for example using ravel().\n",
            "  y = column_or_1d(y, warn=True)\n",
            "/usr/local/lib/python3.7/dist-packages/sklearn/utils/validation.py:993: DataConversionWarning: A column-vector y was passed when a 1d array was expected. Please change the shape of y to (n_samples, ), for example using ravel().\n",
            "  y = column_or_1d(y, warn=True)\n",
            "/usr/local/lib/python3.7/dist-packages/sklearn/utils/validation.py:993: DataConversionWarning: A column-vector y was passed when a 1d array was expected. Please change the shape of y to (n_samples, ), for example using ravel().\n",
            "  y = column_or_1d(y, warn=True)\n"
          ]
        }
      ],
      "source": [
        "squared_error=0\n",
        "rmse=[]\n",
        "for j in range(9,14):\n",
        "    x,y=[],[]\n",
        "    for i in range(len(X)):\n",
        "        x.append(X[i][:,j])\n",
        "        y.append(Y[i][:,j])\n",
        "    # print(len(x),len(y))\n",
        "    # print(x[0], y[0])\n",
        "\n",
        "    x= np.asarray(x)\n",
        "    y= np.asarray(y)\n",
        "    print(x.shape, y.shape)\n",
        "    # print(x[0], y[0])\n",
        "    # break\n",
        "    train_x, test_x, train_y, test_y= train_test_split(x,y, test_size=0.2, random_state=35)\n",
        "    \n",
        "    train_x= np.asarray(train_x).astype('float32')\n",
        "    train_y= np.asarray(train_y).astype('float32')\n",
        "    test_x= np.asarray(test_x).astype('float32')\n",
        "    test_y= np.asarray(test_y).astype('float32')\n",
        "\n",
        "    model.fit(train_x, train_y)\n",
        "    y_pred= model.predict(test_x)\n",
        "    # squared_error += np.sum(np.square(y_pred-test_y))\n",
        "    for i in range (len(y_pred)):\n",
        "        squared_error += np.sum(np.square(y_pred[i]-test_y[i]))\n",
        "    print(squared_error)\n",
        "    rmse.append(np.sqrt(squared_error/len(test_x)))\n",
        "    # print(model.score(test_x, test_y))\n",
        "    # break\n",
        "# rmse= np.sqrt(squared_error/5)\n",
        "\n"
      ]
    },
    {
      "cell_type": "code",
      "execution_count": 105,
      "metadata": {
        "colab": {
          "base_uri": "https://localhost:8080/"
        },
        "id": "5Upf8369PwUp",
        "outputId": "5ee703a8-4800-4dea-ec3a-f875414f7b40"
      },
      "outputs": [
        {
          "output_type": "stream",
          "name": "stdout",
          "text": [
            "[58.75575350727244, 75.40827945008901, 83.15925501881497, 83.32524409631586, 83.32560763875635]\n",
            "76.79482794224973\n"
          ]
        }
      ],
      "source": [
        "print(rmse)\n",
        "frmse= np.mean(rmse)\n",
        "print(frmse)"
      ]
    },
    {
      "cell_type": "markdown",
      "metadata": {
        "id": "jTuDLsOTPwUq"
      },
      "source": [
        "Resulting RMSE is 76.76"
      ]
    }
  ],
  "metadata": {
    "kernelspec": {
      "display_name": "Python 3.9.10 ('env': venv)",
      "language": "python",
      "name": "python3"
    },
    "language_info": {
      "codemirror_mode": {
        "name": "ipython",
        "version": 3
      },
      "file_extension": ".py",
      "mimetype": "text/x-python",
      "name": "python",
      "nbconvert_exporter": "python",
      "pygments_lexer": "ipython3",
      "version": "3.9.10"
    },
    "orig_nbformat": 4,
    "vscode": {
      "interpreter": {
        "hash": "100223b6cd87d8dc6b605e3a0e8f2f3ec57f5a1bed3980de14e71efad53d0b3a"
      }
    },
    "colab": {
      "provenance": [],
      "collapsed_sections": []
    }
  },
  "nbformat": 4,
  "nbformat_minor": 0
}